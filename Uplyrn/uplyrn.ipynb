{
 "cells": [
  {
   "cell_type": "code",
   "execution_count": 1,
   "metadata": {},
   "outputs": [],
   "source": [
    "import pandas  as pd\n",
    "import numpy as np\n",
    "import neattext.functions as nfx\n",
    "from sklearn.feature_extraction.text import CountVectorizer,TfidfVectorizer\n",
    "from sklearn.metrics.pairwise import cosine_similarity,linear_kernel\n",
    "import nltk\n",
    "from nltk.corpus import stopwords\n",
    "from nltk.tokenize import word_tokenize"
   ]
  },
  {
   "cell_type": "code",
   "execution_count": 2,
   "metadata": {},
   "outputs": [
    {
     "name": "stderr",
     "output_type": "stream",
     "text": [
      "[nltk_data] Downloading package punkt to\n",
      "[nltk_data]     C:\\Users\\Admin\\AppData\\Roaming\\nltk_data...\n",
      "[nltk_data]   Package punkt is already up-to-date!\n",
      "[nltk_data] Downloading package stopwords to\n",
      "[nltk_data]     C:\\Users\\Admin\\AppData\\Roaming\\nltk_data...\n",
      "[nltk_data]   Package stopwords is already up-to-date!\n"
     ]
    },
    {
     "data": {
      "text/plain": [
       "True"
      ]
     },
     "execution_count": 2,
     "metadata": {},
     "output_type": "execute_result"
    }
   ],
   "source": [
    "nltk.download('punkt')\n",
    "nltk.download('stopwords')\n"
   ]
  },
  {
   "cell_type": "code",
   "execution_count": 3,
   "metadata": {},
   "outputs": [],
   "source": [
    "df=pd.read_csv(\"published_courses_update.csv\")"
   ]
  },
  {
   "cell_type": "code",
   "execution_count": 4,
   "metadata": {},
   "outputs": [
    {
     "data": {
      "text/html": [
       "<div>\n",
       "<style scoped>\n",
       "    .dataframe tbody tr th:only-of-type {\n",
       "        vertical-align: middle;\n",
       "    }\n",
       "\n",
       "    .dataframe tbody tr th {\n",
       "        vertical-align: top;\n",
       "    }\n",
       "\n",
       "    .dataframe thead th {\n",
       "        text-align: right;\n",
       "    }\n",
       "</style>\n",
       "<table border=\"1\" class=\"dataframe\">\n",
       "  <thead>\n",
       "    <tr style=\"text-align: right;\">\n",
       "      <th></th>\n",
       "      <th>Course Title</th>\n",
       "      <th>Course Description</th>\n",
       "      <th>Who this course is for</th>\n",
       "      <th>Author</th>\n",
       "      <th>Skill Level</th>\n",
       "      <th>Language</th>\n",
       "      <th>takeaway</th>\n",
       "      <th>Category</th>\n",
       "      <th>Duration</th>\n",
       "      <th>url</th>\n",
       "    </tr>\n",
       "  </thead>\n",
       "  <tbody>\n",
       "    <tr>\n",
       "      <th>0</th>\n",
       "      <td>ActiveCampaign Email Marketing &amp; Automation Co...</td>\n",
       "      <td>After 7 years of testing email marketing servi...</td>\n",
       "      <td>NaN</td>\n",
       "      <td>Jerry Banfield</td>\n",
       "      <td>NaN</td>\n",
       "      <td>NaN</td>\n",
       "      <td>How to use ActiveCampaign for your email marke...</td>\n",
       "      <td>Marketing,Digital Marketing,Content Marketing</td>\n",
       "      <td>121.0</td>\n",
       "      <td>https://uplyrn.com/activecampaign-email-market...</td>\n",
       "    </tr>\n",
       "    <tr>\n",
       "      <th>1</th>\n",
       "      <td>The Complete Wireshark Course: Go from Beginne...</td>\n",
       "      <td>Wireshark is much easier to learn when you tak...</td>\n",
       "      <td>NaN</td>\n",
       "      <td>Jerry Banfield</td>\n",
       "      <td>Beginner</td>\n",
       "      <td>English</td>\n",
       "      <td>NaN</td>\n",
       "      <td>Technology,Software Testing &amp; Engineering,Netw...</td>\n",
       "      <td>275.0</td>\n",
       "      <td>https://uplyrn.com/the-complete-wireshark-cour...</td>\n",
       "    </tr>\n",
       "    <tr>\n",
       "      <th>2</th>\n",
       "      <td>The Complete YouTube Course: Beginner to Advanced</td>\n",
       "      <td>If you want to be successful on YouTube, you m...</td>\n",
       "      <td>NaN</td>\n",
       "      <td>Jerry Banfield</td>\n",
       "      <td>Appropriate for all</td>\n",
       "      <td>English</td>\n",
       "      <td>NaN</td>\n",
       "      <td>Marketing,Digital Marketing,Social Media Marke...</td>\n",
       "      <td>283.0</td>\n",
       "      <td>https://uplyrn.com/the-complete-youtube-course...</td>\n",
       "    </tr>\n",
       "    <tr>\n",
       "      <th>3</th>\n",
       "      <td>The MATLAB Course for Beginners</td>\n",
       "      <td>MATLAB&amp;nbsp;is much easier to learn when you c...</td>\n",
       "      <td>NaN</td>\n",
       "      <td>Jerry Banfield</td>\n",
       "      <td>Beginner</td>\n",
       "      <td>English</td>\n",
       "      <td>NaN</td>\n",
       "      <td>Technology,Programming Languages,Database Desi...</td>\n",
       "      <td>258.0</td>\n",
       "      <td>https://uplyrn.com/the-matlab-course-for-begin...</td>\n",
       "    </tr>\n",
       "    <tr>\n",
       "      <th>4</th>\n",
       "      <td>Save Time &amp; Scale Digital Marketing with Autom...</td>\n",
       "      <td>What if you could automatically publish new Yo...</td>\n",
       "      <td>Business ownersMarketers and bloggers who want...</td>\n",
       "      <td>Jerry Banfield</td>\n",
       "      <td>Appropriate for all</td>\n",
       "      <td>English</td>\n",
       "      <td>Build an advertising program that runs itself ...</td>\n",
       "      <td>Marketing,Digital Marketing,Social Media Marke...</td>\n",
       "      <td>190.0</td>\n",
       "      <td>https://uplyrn.com/save-time-scale-digital-mar...</td>\n",
       "    </tr>\n",
       "  </tbody>\n",
       "</table>\n",
       "</div>"
      ],
      "text/plain": [
       "                                        Course Title  \\\n",
       "0  ActiveCampaign Email Marketing & Automation Co...   \n",
       "1  The Complete Wireshark Course: Go from Beginne...   \n",
       "2  The Complete YouTube Course: Beginner to Advanced   \n",
       "3                    The MATLAB Course for Beginners   \n",
       "4  Save Time & Scale Digital Marketing with Autom...   \n",
       "\n",
       "                                  Course Description  \\\n",
       "0  After 7 years of testing email marketing servi...   \n",
       "1  Wireshark is much easier to learn when you tak...   \n",
       "2  If you want to be successful on YouTube, you m...   \n",
       "3  MATLAB&nbsp;is much easier to learn when you c...   \n",
       "4  What if you could automatically publish new Yo...   \n",
       "\n",
       "                              Who this course is for          Author  \\\n",
       "0                                                NaN  Jerry Banfield   \n",
       "1                                                NaN  Jerry Banfield   \n",
       "2                                                NaN  Jerry Banfield   \n",
       "3                                                NaN  Jerry Banfield   \n",
       "4  Business ownersMarketers and bloggers who want...  Jerry Banfield   \n",
       "\n",
       "           Skill Level Language  \\\n",
       "0                  NaN      NaN   \n",
       "1             Beginner  English   \n",
       "2  Appropriate for all  English   \n",
       "3             Beginner  English   \n",
       "4  Appropriate for all  English   \n",
       "\n",
       "                                            takeaway  \\\n",
       "0  How to use ActiveCampaign for your email marke...   \n",
       "1                                                NaN   \n",
       "2                                                NaN   \n",
       "3                                                NaN   \n",
       "4  Build an advertising program that runs itself ...   \n",
       "\n",
       "                                            Category  Duration  \\\n",
       "0      Marketing,Digital Marketing,Content Marketing     121.0   \n",
       "1  Technology,Software Testing & Engineering,Netw...     275.0   \n",
       "2  Marketing,Digital Marketing,Social Media Marke...     283.0   \n",
       "3  Technology,Programming Languages,Database Desi...     258.0   \n",
       "4  Marketing,Digital Marketing,Social Media Marke...     190.0   \n",
       "\n",
       "                                                 url  \n",
       "0  https://uplyrn.com/activecampaign-email-market...  \n",
       "1  https://uplyrn.com/the-complete-wireshark-cour...  \n",
       "2  https://uplyrn.com/the-complete-youtube-course...  \n",
       "3  https://uplyrn.com/the-matlab-course-for-begin...  \n",
       "4  https://uplyrn.com/save-time-scale-digital-mar...  "
      ]
     },
     "execution_count": 4,
     "metadata": {},
     "output_type": "execute_result"
    }
   ],
   "source": [
    "df.head()"
   ]
  },
  {
   "cell_type": "code",
   "execution_count": 5,
   "metadata": {},
   "outputs": [
    {
     "data": {
      "text/plain": [
       "array([nan, 'Beginner', 'Appropriate for all', 'Intermediate', 'Advanced'],\n",
       "      dtype=object)"
      ]
     },
     "execution_count": 5,
     "metadata": {},
     "output_type": "execute_result"
    }
   ],
   "source": [
    "df['Skill Level'].unique()"
   ]
  },
  {
   "cell_type": "code",
   "execution_count": 6,
   "metadata": {},
   "outputs": [
    {
     "data": {
      "text/plain": [
       "(923, 10)"
      ]
     },
     "execution_count": 6,
     "metadata": {},
     "output_type": "execute_result"
    }
   ],
   "source": [
    "df.shape"
   ]
  },
  {
   "cell_type": "code",
   "execution_count": 7,
   "metadata": {},
   "outputs": [
    {
     "data": {
      "text/html": [
       "<div>\n",
       "<style scoped>\n",
       "    .dataframe tbody tr th:only-of-type {\n",
       "        vertical-align: middle;\n",
       "    }\n",
       "\n",
       "    .dataframe tbody tr th {\n",
       "        vertical-align: top;\n",
       "    }\n",
       "\n",
       "    .dataframe thead th {\n",
       "        text-align: right;\n",
       "    }\n",
       "</style>\n",
       "<table border=\"1\" class=\"dataframe\">\n",
       "  <thead>\n",
       "    <tr style=\"text-align: right;\">\n",
       "      <th></th>\n",
       "      <th>Duration</th>\n",
       "    </tr>\n",
       "  </thead>\n",
       "  <tbody>\n",
       "    <tr>\n",
       "      <th>count</th>\n",
       "      <td>916.000000</td>\n",
       "    </tr>\n",
       "    <tr>\n",
       "      <th>mean</th>\n",
       "      <td>174.147380</td>\n",
       "    </tr>\n",
       "    <tr>\n",
       "      <th>std</th>\n",
       "      <td>271.596597</td>\n",
       "    </tr>\n",
       "    <tr>\n",
       "      <th>min</th>\n",
       "      <td>9.000000</td>\n",
       "    </tr>\n",
       "    <tr>\n",
       "      <th>25%</th>\n",
       "      <td>55.000000</td>\n",
       "    </tr>\n",
       "    <tr>\n",
       "      <th>50%</th>\n",
       "      <td>95.500000</td>\n",
       "    </tr>\n",
       "    <tr>\n",
       "      <th>75%</th>\n",
       "      <td>182.000000</td>\n",
       "    </tr>\n",
       "    <tr>\n",
       "      <th>max</th>\n",
       "      <td>3072.000000</td>\n",
       "    </tr>\n",
       "  </tbody>\n",
       "</table>\n",
       "</div>"
      ],
      "text/plain": [
       "          Duration\n",
       "count   916.000000\n",
       "mean    174.147380\n",
       "std     271.596597\n",
       "min       9.000000\n",
       "25%      55.000000\n",
       "50%      95.500000\n",
       "75%     182.000000\n",
       "max    3072.000000"
      ]
     },
     "execution_count": 7,
     "metadata": {},
     "output_type": "execute_result"
    }
   ],
   "source": [
    "df.describe()"
   ]
  },
  {
   "cell_type": "code",
   "execution_count": 8,
   "metadata": {},
   "outputs": [
    {
     "name": "stdout",
     "output_type": "stream",
     "text": [
      "<class 'pandas.core.frame.DataFrame'>\n",
      "RangeIndex: 923 entries, 0 to 922\n",
      "Data columns (total 10 columns):\n",
      " #   Column                  Non-Null Count  Dtype  \n",
      "---  ------                  --------------  -----  \n",
      " 0   Course Title            923 non-null    object \n",
      " 1   Course Description      923 non-null    object \n",
      " 2   Who this course is for  676 non-null    object \n",
      " 3   Author                  923 non-null    object \n",
      " 4   Skill Level             482 non-null    object \n",
      " 5   Language                482 non-null    object \n",
      " 6   takeaway                852 non-null    object \n",
      " 7   Category                921 non-null    object \n",
      " 8   Duration                916 non-null    float64\n",
      " 9   url                     923 non-null    object \n",
      "dtypes: float64(1), object(9)\n",
      "memory usage: 72.2+ KB\n"
     ]
    }
   ],
   "source": [
    "df.info()"
   ]
  },
  {
   "cell_type": "code",
   "execution_count": null,
   "metadata": {},
   "outputs": [],
   "source": []
  },
  {
   "cell_type": "code",
   "execution_count": 9,
   "metadata": {},
   "outputs": [],
   "source": [
    "df['Language'].fillna('English',inplace=True)"
   ]
  },
  {
   "cell_type": "code",
   "execution_count": 10,
   "metadata": {},
   "outputs": [
    {
     "data": {
      "text/plain": [
       "Course Title                0\n",
       "Course Description          0\n",
       "Who this course is for    247\n",
       "Author                      0\n",
       "Skill Level               441\n",
       "Language                    0\n",
       "takeaway                   71\n",
       "Category                    2\n",
       "Duration                    7\n",
       "url                         0\n",
       "dtype: int64"
      ]
     },
     "execution_count": 10,
     "metadata": {},
     "output_type": "execute_result"
    }
   ],
   "source": [
    "df.isnull().sum()"
   ]
  },
  {
   "cell_type": "code",
   "execution_count": 11,
   "metadata": {},
   "outputs": [
    {
     "data": {
      "text/html": [
       "<div>\n",
       "<style scoped>\n",
       "    .dataframe tbody tr th:only-of-type {\n",
       "        vertical-align: middle;\n",
       "    }\n",
       "\n",
       "    .dataframe tbody tr th {\n",
       "        vertical-align: top;\n",
       "    }\n",
       "\n",
       "    .dataframe thead th {\n",
       "        text-align: right;\n",
       "    }\n",
       "</style>\n",
       "<table border=\"1\" class=\"dataframe\">\n",
       "  <thead>\n",
       "    <tr style=\"text-align: right;\">\n",
       "      <th></th>\n",
       "      <th>Course Title</th>\n",
       "      <th>Course Description</th>\n",
       "      <th>Who this course is for</th>\n",
       "      <th>Author</th>\n",
       "      <th>Skill Level</th>\n",
       "      <th>Language</th>\n",
       "      <th>takeaway</th>\n",
       "      <th>Category</th>\n",
       "      <th>Duration</th>\n",
       "      <th>url</th>\n",
       "    </tr>\n",
       "  </thead>\n",
       "  <tbody>\n",
       "    <tr>\n",
       "      <th>0</th>\n",
       "      <td>ActiveCampaign Email Marketing &amp; Automation Co...</td>\n",
       "      <td>After 7 years of testing email marketing servi...</td>\n",
       "      <td>NaN</td>\n",
       "      <td>Jerry Banfield</td>\n",
       "      <td>NaN</td>\n",
       "      <td>English</td>\n",
       "      <td>How to use ActiveCampaign for your email marke...</td>\n",
       "      <td>Marketing,Digital Marketing,Content Marketing</td>\n",
       "      <td>121.0</td>\n",
       "      <td>https://uplyrn.com/activecampaign-email-market...</td>\n",
       "    </tr>\n",
       "    <tr>\n",
       "      <th>1</th>\n",
       "      <td>The Complete Wireshark Course: Go from Beginne...</td>\n",
       "      <td>Wireshark is much easier to learn when you tak...</td>\n",
       "      <td>NaN</td>\n",
       "      <td>Jerry Banfield</td>\n",
       "      <td>Beginner</td>\n",
       "      <td>English</td>\n",
       "      <td>NaN</td>\n",
       "      <td>Technology,Software Testing &amp; Engineering,Netw...</td>\n",
       "      <td>275.0</td>\n",
       "      <td>https://uplyrn.com/the-complete-wireshark-cour...</td>\n",
       "    </tr>\n",
       "    <tr>\n",
       "      <th>2</th>\n",
       "      <td>The Complete YouTube Course: Beginner to Advanced</td>\n",
       "      <td>If you want to be successful on YouTube, you m...</td>\n",
       "      <td>NaN</td>\n",
       "      <td>Jerry Banfield</td>\n",
       "      <td>Appropriate for all</td>\n",
       "      <td>English</td>\n",
       "      <td>NaN</td>\n",
       "      <td>Marketing,Digital Marketing,Social Media Marke...</td>\n",
       "      <td>283.0</td>\n",
       "      <td>https://uplyrn.com/the-complete-youtube-course...</td>\n",
       "    </tr>\n",
       "    <tr>\n",
       "      <th>3</th>\n",
       "      <td>The MATLAB Course for Beginners</td>\n",
       "      <td>MATLAB&amp;nbsp;is much easier to learn when you c...</td>\n",
       "      <td>NaN</td>\n",
       "      <td>Jerry Banfield</td>\n",
       "      <td>Beginner</td>\n",
       "      <td>English</td>\n",
       "      <td>NaN</td>\n",
       "      <td>Technology,Programming Languages,Database Desi...</td>\n",
       "      <td>258.0</td>\n",
       "      <td>https://uplyrn.com/the-matlab-course-for-begin...</td>\n",
       "    </tr>\n",
       "    <tr>\n",
       "      <th>4</th>\n",
       "      <td>Save Time &amp; Scale Digital Marketing with Autom...</td>\n",
       "      <td>What if you could automatically publish new Yo...</td>\n",
       "      <td>Business ownersMarketers and bloggers who want...</td>\n",
       "      <td>Jerry Banfield</td>\n",
       "      <td>Appropriate for all</td>\n",
       "      <td>English</td>\n",
       "      <td>Build an advertising program that runs itself ...</td>\n",
       "      <td>Marketing,Digital Marketing,Social Media Marke...</td>\n",
       "      <td>190.0</td>\n",
       "      <td>https://uplyrn.com/save-time-scale-digital-mar...</td>\n",
       "    </tr>\n",
       "  </tbody>\n",
       "</table>\n",
       "</div>"
      ],
      "text/plain": [
       "                                        Course Title  \\\n",
       "0  ActiveCampaign Email Marketing & Automation Co...   \n",
       "1  The Complete Wireshark Course: Go from Beginne...   \n",
       "2  The Complete YouTube Course: Beginner to Advanced   \n",
       "3                    The MATLAB Course for Beginners   \n",
       "4  Save Time & Scale Digital Marketing with Autom...   \n",
       "\n",
       "                                  Course Description  \\\n",
       "0  After 7 years of testing email marketing servi...   \n",
       "1  Wireshark is much easier to learn when you tak...   \n",
       "2  If you want to be successful on YouTube, you m...   \n",
       "3  MATLAB&nbsp;is much easier to learn when you c...   \n",
       "4  What if you could automatically publish new Yo...   \n",
       "\n",
       "                              Who this course is for          Author  \\\n",
       "0                                                NaN  Jerry Banfield   \n",
       "1                                                NaN  Jerry Banfield   \n",
       "2                                                NaN  Jerry Banfield   \n",
       "3                                                NaN  Jerry Banfield   \n",
       "4  Business ownersMarketers and bloggers who want...  Jerry Banfield   \n",
       "\n",
       "           Skill Level Language  \\\n",
       "0                  NaN  English   \n",
       "1             Beginner  English   \n",
       "2  Appropriate for all  English   \n",
       "3             Beginner  English   \n",
       "4  Appropriate for all  English   \n",
       "\n",
       "                                            takeaway  \\\n",
       "0  How to use ActiveCampaign for your email marke...   \n",
       "1                                                NaN   \n",
       "2                                                NaN   \n",
       "3                                                NaN   \n",
       "4  Build an advertising program that runs itself ...   \n",
       "\n",
       "                                            Category  Duration  \\\n",
       "0      Marketing,Digital Marketing,Content Marketing     121.0   \n",
       "1  Technology,Software Testing & Engineering,Netw...     275.0   \n",
       "2  Marketing,Digital Marketing,Social Media Marke...     283.0   \n",
       "3  Technology,Programming Languages,Database Desi...     258.0   \n",
       "4  Marketing,Digital Marketing,Social Media Marke...     190.0   \n",
       "\n",
       "                                                 url  \n",
       "0  https://uplyrn.com/activecampaign-email-market...  \n",
       "1  https://uplyrn.com/the-complete-wireshark-cour...  \n",
       "2  https://uplyrn.com/the-complete-youtube-course...  \n",
       "3  https://uplyrn.com/the-matlab-course-for-begin...  \n",
       "4  https://uplyrn.com/save-time-scale-digital-mar...  "
      ]
     },
     "execution_count": 11,
     "metadata": {},
     "output_type": "execute_result"
    }
   ],
   "source": [
    "df.head()\n"
   ]
  },
  {
   "cell_type": "code",
   "execution_count": 12,
   "metadata": {},
   "outputs": [],
   "source": [
    "df['Duration'].fillna(df['Duration'].mean(), inplace=True)"
   ]
  },
  {
   "cell_type": "code",
   "execution_count": 13,
   "metadata": {},
   "outputs": [],
   "source": [
    "df.dropna(subset=['Category'], inplace=True)"
   ]
  },
  {
   "cell_type": "code",
   "execution_count": 14,
   "metadata": {},
   "outputs": [],
   "source": [
    "df.drop('Who this course is for',axis=1,inplace=True)"
   ]
  },
  {
   "cell_type": "code",
   "execution_count": 15,
   "metadata": {},
   "outputs": [],
   "source": [
    "df['Skill Level'] = df['Skill Level'].fillna('Appropriate for all')"
   ]
  },
  {
   "cell_type": "code",
   "execution_count": 16,
   "metadata": {},
   "outputs": [],
   "source": [
    "df.drop('takeaway',axis=1,inplace=True)"
   ]
  },
  {
   "cell_type": "code",
   "execution_count": 17,
   "metadata": {},
   "outputs": [
    {
     "data": {
      "text/plain": [
       "Course Title          0\n",
       "Course Description    0\n",
       "Author                0\n",
       "Skill Level           0\n",
       "Language              0\n",
       "Category              0\n",
       "Duration              0\n",
       "url                   0\n",
       "dtype: int64"
      ]
     },
     "execution_count": 17,
     "metadata": {},
     "output_type": "execute_result"
    }
   ],
   "source": [
    "df.isnull().sum()"
   ]
  },
  {
   "cell_type": "markdown",
   "metadata": {},
   "source": [
    "df.isnull().sum()"
   ]
  },
  {
   "cell_type": "code",
   "execution_count": 18,
   "metadata": {},
   "outputs": [
    {
     "data": {
      "text/plain": [
       "0      ActiveCampaign Email Marketing & Automation Co...\n",
       "1      The Complete Wireshark Course: Go from Beginne...\n",
       "2      The Complete YouTube Course: Beginner to Advanced\n",
       "3                        The MATLAB Course for Beginners\n",
       "4      Save Time & Scale Digital Marketing with Autom...\n",
       "                             ...                        \n",
       "918    WordPress Elementor Pro Course: Master Web Des...\n",
       "919    Figma Design: A Must-Learn Tool for UI UX Desi...\n",
       "920    Data Structures and Algorithms in Java: A Deta...\n",
       "921    The Art of Communication: A Class to Improve Y...\n",
       "922    Value Investing: Key Strategies to Grow Your W...\n",
       "Name: Course Title, Length: 921, dtype: object"
      ]
     },
     "execution_count": 18,
     "metadata": {},
     "output_type": "execute_result"
    }
   ],
   "source": [
    "df['Course Title']"
   ]
  },
  {
   "cell_type": "code",
   "execution_count": 19,
   "metadata": {},
   "outputs": [],
   "source": [
    "df['Course Title']=df['Course Title'].apply(nfx.remove_stopwords)"
   ]
  },
  {
   "cell_type": "code",
   "execution_count": 20,
   "metadata": {},
   "outputs": [],
   "source": [
    "df['Course Title']=df['Course Title'].apply(nfx.remove_special_characters)"
   ]
  },
  {
   "cell_type": "code",
   "execution_count": 21,
   "metadata": {},
   "outputs": [
    {
     "data": {
      "text/html": [
       "<div>\n",
       "<style scoped>\n",
       "    .dataframe tbody tr th:only-of-type {\n",
       "        vertical-align: middle;\n",
       "    }\n",
       "\n",
       "    .dataframe tbody tr th {\n",
       "        vertical-align: top;\n",
       "    }\n",
       "\n",
       "    .dataframe thead th {\n",
       "        text-align: right;\n",
       "    }\n",
       "</style>\n",
       "<table border=\"1\" class=\"dataframe\">\n",
       "  <thead>\n",
       "    <tr style=\"text-align: right;\">\n",
       "      <th></th>\n",
       "      <th>Course Title</th>\n",
       "      <th>Course Description</th>\n",
       "      <th>Author</th>\n",
       "      <th>Skill Level</th>\n",
       "      <th>Language</th>\n",
       "      <th>Category</th>\n",
       "      <th>Duration</th>\n",
       "      <th>url</th>\n",
       "    </tr>\n",
       "  </thead>\n",
       "  <tbody>\n",
       "    <tr>\n",
       "      <th>0</th>\n",
       "      <td>ActiveCampaign Email Marketing  Automation Course</td>\n",
       "      <td>After 7 years of testing email marketing servi...</td>\n",
       "      <td>Jerry Banfield</td>\n",
       "      <td>Appropriate for all</td>\n",
       "      <td>English</td>\n",
       "      <td>Marketing,Digital Marketing,Content Marketing</td>\n",
       "      <td>121.0</td>\n",
       "      <td>https://uplyrn.com/activecampaign-email-market...</td>\n",
       "    </tr>\n",
       "    <tr>\n",
       "      <th>1</th>\n",
       "      <td>Complete Wireshark Course Beginner Advanced</td>\n",
       "      <td>Wireshark is much easier to learn when you tak...</td>\n",
       "      <td>Jerry Banfield</td>\n",
       "      <td>Beginner</td>\n",
       "      <td>English</td>\n",
       "      <td>Technology,Software Testing &amp; Engineering,Netw...</td>\n",
       "      <td>275.0</td>\n",
       "      <td>https://uplyrn.com/the-complete-wireshark-cour...</td>\n",
       "    </tr>\n",
       "    <tr>\n",
       "      <th>2</th>\n",
       "      <td>Complete YouTube Course Beginner Advanced</td>\n",
       "      <td>If you want to be successful on YouTube, you m...</td>\n",
       "      <td>Jerry Banfield</td>\n",
       "      <td>Appropriate for all</td>\n",
       "      <td>English</td>\n",
       "      <td>Marketing,Digital Marketing,Social Media Marke...</td>\n",
       "      <td>283.0</td>\n",
       "      <td>https://uplyrn.com/the-complete-youtube-course...</td>\n",
       "    </tr>\n",
       "    <tr>\n",
       "      <th>3</th>\n",
       "      <td>MATLAB Course Beginners</td>\n",
       "      <td>MATLAB&amp;nbsp;is much easier to learn when you c...</td>\n",
       "      <td>Jerry Banfield</td>\n",
       "      <td>Beginner</td>\n",
       "      <td>English</td>\n",
       "      <td>Technology,Programming Languages,Database Desi...</td>\n",
       "      <td>258.0</td>\n",
       "      <td>https://uplyrn.com/the-matlab-course-for-begin...</td>\n",
       "    </tr>\n",
       "    <tr>\n",
       "      <th>4</th>\n",
       "      <td>Save Time  Scale Digital Marketing Automation</td>\n",
       "      <td>What if you could automatically publish new Yo...</td>\n",
       "      <td>Jerry Banfield</td>\n",
       "      <td>Appropriate for all</td>\n",
       "      <td>English</td>\n",
       "      <td>Marketing,Digital Marketing,Social Media Marke...</td>\n",
       "      <td>190.0</td>\n",
       "      <td>https://uplyrn.com/save-time-scale-digital-mar...</td>\n",
       "    </tr>\n",
       "  </tbody>\n",
       "</table>\n",
       "</div>"
      ],
      "text/plain": [
       "                                        Course Title  \\\n",
       "0  ActiveCampaign Email Marketing  Automation Course   \n",
       "1        Complete Wireshark Course Beginner Advanced   \n",
       "2          Complete YouTube Course Beginner Advanced   \n",
       "3                            MATLAB Course Beginners   \n",
       "4      Save Time  Scale Digital Marketing Automation   \n",
       "\n",
       "                                  Course Description          Author  \\\n",
       "0  After 7 years of testing email marketing servi...  Jerry Banfield   \n",
       "1  Wireshark is much easier to learn when you tak...  Jerry Banfield   \n",
       "2  If you want to be successful on YouTube, you m...  Jerry Banfield   \n",
       "3  MATLAB&nbsp;is much easier to learn when you c...  Jerry Banfield   \n",
       "4  What if you could automatically publish new Yo...  Jerry Banfield   \n",
       "\n",
       "           Skill Level Language  \\\n",
       "0  Appropriate for all  English   \n",
       "1             Beginner  English   \n",
       "2  Appropriate for all  English   \n",
       "3             Beginner  English   \n",
       "4  Appropriate for all  English   \n",
       "\n",
       "                                            Category  Duration  \\\n",
       "0      Marketing,Digital Marketing,Content Marketing     121.0   \n",
       "1  Technology,Software Testing & Engineering,Netw...     275.0   \n",
       "2  Marketing,Digital Marketing,Social Media Marke...     283.0   \n",
       "3  Technology,Programming Languages,Database Desi...     258.0   \n",
       "4  Marketing,Digital Marketing,Social Media Marke...     190.0   \n",
       "\n",
       "                                                 url  \n",
       "0  https://uplyrn.com/activecampaign-email-market...  \n",
       "1  https://uplyrn.com/the-complete-wireshark-cour...  \n",
       "2  https://uplyrn.com/the-complete-youtube-course...  \n",
       "3  https://uplyrn.com/the-matlab-course-for-begin...  \n",
       "4  https://uplyrn.com/save-time-scale-digital-mar...  "
      ]
     },
     "execution_count": 21,
     "metadata": {},
     "output_type": "execute_result"
    }
   ],
   "source": [
    "df.head()"
   ]
  },
  {
   "cell_type": "code",
   "execution_count": 22,
   "metadata": {},
   "outputs": [],
   "source": [
    "df['combined_text'] = df['Course Title'] + ' ' + df['Course Description'] + ' ' + df['Author']"
   ]
  },
  {
   "cell_type": "code",
   "execution_count": 23,
   "metadata": {},
   "outputs": [],
   "source": [
    "# Tokenization and stop word removal\n",
    "stop_words = set(stopwords.words('english'))"
   ]
  },
  {
   "cell_type": "code",
   "execution_count": 24,
   "metadata": {},
   "outputs": [],
   "source": [
    "def tokenize(text):\n",
    "    tokens = word_tokenize(text)\n",
    "    return [word.lower() for word in tokens if word.isalnum() and word.lower() not in stop_words]\n"
   ]
  },
  {
   "cell_type": "code",
   "execution_count": 25,
   "metadata": {},
   "outputs": [
    {
     "name": "stderr",
     "output_type": "stream",
     "text": [
      "c:\\Users\\Admin\\anaconda3\\Lib\\site-packages\\sklearn\\feature_extraction\\text.py:525: UserWarning: The parameter 'token_pattern' will not be used since 'tokenizer' is not None'\n",
      "  warnings.warn(\n"
     ]
    }
   ],
   "source": [
    "tfidf_vectorizer = TfidfVectorizer(tokenizer=tokenize, max_features=5000)\n",
    "tfidf_matrix = tfidf_vectorizer.fit_transform(df['combined_text'])"
   ]
  },
  {
   "cell_type": "code",
   "execution_count": 26,
   "metadata": {},
   "outputs": [],
   "source": [
    "def recommend_courses(keyword, num_recommendations=5):\n",
    "    keyword_vector = tfidf_vectorizer.transform([keyword])\n",
    "    cosine_similarities = cosine_similarity(keyword_vector, tfidf_matrix).flatten()\n",
    "    related_course_indices = cosine_similarities.argsort()[::-1][:num_recommendations]\n",
    "    recommended_courses = df.iloc[related_course_indices][['Course Title', 'url']]\n",
    "    return recommended_courses"
   ]
  },
  {
   "cell_type": "code",
   "execution_count": 27,
   "metadata": {},
   "outputs": [
    {
     "name": "stdout",
     "output_type": "stream",
     "text": [
      "                                          Course Title  \\\n",
      "667                         Indian Equity Mutual Funds   \n",
      "370  Technical Analysis Stock Trading  Guaranteed P...   \n",
      "922         Value Investing Key Strategies Grow Wealth   \n",
      "761           Beginners Guide Financial Ratio Analysis   \n",
      "88      Cryptocurrency Investment  Retirement Planning   \n",
      "\n",
      "                                                   url  \n",
      "667  https://uplyrn.com/indian-equity-mutual-funds,...  \n",
      "370  https://uplyrn.com/technical-analysis-in-stock...  \n",
      "922  https://uplyrn.com/value-investing-key-strateg...  \n",
      "761  https://uplyrn.com/a-beginners-guide-to-financ...  \n",
      "88   https://uplyrn.com/cryptocurrency-investment-r...  \n"
     ]
    }
   ],
   "source": [
    "keyword = \"stock knowledge\"\n",
    "recommended_courses = recommend_courses(keyword)\n",
    "print(recommended_courses)"
   ]
  },
  {
   "cell_type": "code",
   "execution_count": 28,
   "metadata": {},
   "outputs": [],
   "source": [
    "import pickle\n",
    "\n",
    "# Save TF-IDF vectorizer\n",
    "with open('course.pkl', 'wb') as f:\n",
    "    pickle.dump(tfidf_vectorizer, f)\n",
    "\n",
    "# Save TF-IDF matrix\n",
    "with open('course.pkl', 'wb') as f:\n",
    "    pickle.dump(tfidf_matrix, f)\n"
   ]
  },
  {
   "cell_type": "code",
   "execution_count": null,
   "metadata": {},
   "outputs": [],
   "source": []
  },
  {
   "cell_type": "code",
   "execution_count": null,
   "metadata": {},
   "outputs": [],
   "source": []
  }
 ],
 "metadata": {
  "kernelspec": {
   "display_name": "base",
   "language": "python",
   "name": "python3"
  },
  "language_info": {
   "codemirror_mode": {
    "name": "ipython",
    "version": 3
   },
   "file_extension": ".py",
   "mimetype": "text/x-python",
   "name": "python",
   "nbconvert_exporter": "python",
   "pygments_lexer": "ipython3",
   "version": "3.11.5"
  }
 },
 "nbformat": 4,
 "nbformat_minor": 2
}
